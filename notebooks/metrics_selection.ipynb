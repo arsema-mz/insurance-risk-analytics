{
 "cells": [
  {
   "cell_type": "markdown",
   "id": "7c206fc8",
   "metadata": {},
   "source": [
    "## Metric Selection\n",
    "\n",
    "For this analysis, the following key performance indicators (KPIs) were selected to quantify risk and evaluate the impact of features being tested:\n",
    "\n",
    "1. **Claim Frequency**:\n",
    "   - **Definition**: The proportion of policies that have at least one claim.\n",
    "   - **Calculation**: \n",
    "     - Claim Frequency = (Number of policies with at least one claim) / (Total number of policies)\n",
    "\n",
    "2. **Claim Severity**:\n",
    "   - **Definition**: The average amount of a claim, given that a claim occurred.\n",
    "   - **Calculation**: \n",
    "     - Claim Severity = (Total amount of claims) / (Number of claims)\n",
    "\n",
    "3. **Margin**:\n",
    "   - **Definition**: The profit margin calculated as the difference between total premiums and total claims.\n",
    "   - **Calculation**: \n",
    "     - Margin = TotalPremium - TotalClaims\n",
    "\n",
    "These metrics will be used to validate or reject the following null hypotheses:\n",
    "- H₀: There are no risk differences across provinces.\n",
    "- H₀: There are no risk differences between zip codes.\n",
    "- H₀: There are no significant margin differences between zip codes.\n",
    "- H₀: There are no significant risk differences between Women and Men."
   ]
  },
  {
   "cell_type": "markdown",
   "id": "7e2ab5d1",
   "metadata": {},
   "source": [
    "## Next Steps for Task 3\n",
    "\n",
    "Now that the metrics have been defined, the following steps will be undertaken to validate the hypotheses:\n",
    "\n",
    "1. **Data Segmentation**:\n",
    "   - Define Group A (Control Group) and Group B (Test Group) based on the features being tested.\n",
    "   - Ensure that the groups are statistically equivalent on key attributes aside from the feature being tested.\n",
    "\n",
    "2. **Statistical Testing**:\n",
    "   - Conduct appropriate statistical tests:\n",
    "     - Use chi-squared tests for categorical data (e.g., provinces, zip codes).\n",
    "     - Use t-tests or z-tests for numerical data (e.g., claim severity, margins).\n",
    "   - Analyze p-values to determine if the null hypotheses can be rejected.\n",
    "\n",
    "3. **Analyze Results**:\n",
    "   - Interpret the outcomes of the statistical tests.\n",
    "   - Document findings and discuss their implications within the context of risk drivers.\n",
    "\n",
    "4. **Business Recommendations**:\n",
    "   - For each rejected hypothesis, provide a clear interpretation and recommendation.\n",
    "   - Discuss how these findings could influence the segmentation strategy and pricing models.\n"
   ]
  }
 ],
 "metadata": {
  "language_info": {
   "name": "python"
  }
 },
 "nbformat": 4,
 "nbformat_minor": 5
}
