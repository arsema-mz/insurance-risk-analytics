{
 "cells": [
  {
   "cell_type": "code",
   "execution_count": 13,
   "id": "f7b6e524",
   "metadata": {},
   "outputs": [
    {
     "name": "stderr",
     "output_type": "stream",
     "text": [
      "C:\\Users\\arsem\\AppData\\Local\\Temp\\ipykernel_21628\\3832553365.py:4: DtypeWarning: Columns (32,37) have mixed types. Specify dtype option on import or set low_memory=False.\n",
      "  data = pd.read_csv(file_path, delimiter='|')\n"
     ]
    }
   ],
   "source": [
    "import pandas as pd\n",
    "\n",
    "file_path = '../data/MachineLearningRating_v3.txt'  \n",
    "data = pd.read_csv(file_path, delimiter='|')  \n"
   ]
  },
  {
   "cell_type": "code",
   "execution_count": 14,
   "id": "62b99bda",
   "metadata": {},
   "outputs": [
    {
     "name": "stdout",
     "output_type": "stream",
     "text": [
      "UnderwrittenCoverID           int64\n",
      "PolicyID                      int64\n",
      "TransactionMonth             object\n",
      "IsVATRegistered                bool\n",
      "Citizenship                  object\n",
      "LegalType                    object\n",
      "Title                        object\n",
      "Language                     object\n",
      "Bank                         object\n",
      "AccountType                  object\n",
      "MaritalStatus                object\n",
      "Gender                       object\n",
      "Country                      object\n",
      "Province                     object\n",
      "PostalCode                    int64\n",
      "MainCrestaZone               object\n",
      "SubCrestaZone                object\n",
      "ItemType                     object\n",
      "mmcode                      float64\n",
      "VehicleType                  object\n",
      "RegistrationYear              int64\n",
      "make                         object\n",
      "Model                        object\n",
      "Cylinders                   float64\n",
      "cubiccapacity               float64\n",
      "kilowatts                   float64\n",
      "bodytype                     object\n",
      "NumberOfDoors               float64\n",
      "VehicleIntroDate             object\n",
      "CustomValueEstimate         float64\n",
      "AlarmImmobiliser             object\n",
      "TrackingDevice               object\n",
      "CapitalOutstanding           object\n",
      "NewVehicle                   object\n",
      "WrittenOff                   object\n",
      "Rebuilt                      object\n",
      "Converted                    object\n",
      "CrossBorder                  object\n",
      "NumberOfVehiclesInFleet     float64\n",
      "SumInsured                  float64\n",
      "TermFrequency                object\n",
      "CalculatedPremiumPerTerm    float64\n",
      "ExcessSelected               object\n",
      "CoverCategory                object\n",
      "CoverType                    object\n",
      "CoverGroup                   object\n",
      "Section                      object\n",
      "Product                      object\n",
      "StatutoryClass               object\n",
      "StatutoryRiskType            object\n",
      "TotalPremium                float64\n",
      "TotalClaims                 float64\n",
      "dtype: object\n"
     ]
    }
   ],
   "source": [
    "print(data.dtypes)\n"
   ]
  },
  {
   "cell_type": "code",
   "execution_count": 15,
   "id": "6a36eed5",
   "metadata": {},
   "outputs": [
    {
     "name": "stdout",
     "output_type": "stream",
     "text": [
      "count    1.000098e+06\n",
      "mean     6.486119e+01\n",
      "std      2.384075e+03\n",
      "min     -1.200241e+04\n",
      "25%      0.000000e+00\n",
      "50%      0.000000e+00\n",
      "75%      0.000000e+00\n",
      "max      3.930921e+05\n",
      "Name: TotalClaims, dtype: float64\n",
      "TotalClaims\n",
      "0.000000        997305\n",
      "6140.350877        326\n",
      "750.649123         101\n",
      "1300.000000         59\n",
      "850.000000          51\n",
      "877.192982          45\n",
      "43859.649123        41\n",
      "1150.000000         31\n",
      "3070.175439         28\n",
      "815.789474          24\n",
      "Name: count, dtype: int64\n"
     ]
    }
   ],
   "source": [
    "print(data['TotalClaims'].describe())\n",
    "print(data['TotalClaims'].value_counts(dropna=False).head(10))\n"
   ]
  },
  {
   "cell_type": "code",
   "execution_count": 25,
   "id": "f18d6020",
   "metadata": {},
   "outputs": [
    {
     "name": "stderr",
     "output_type": "stream",
     "text": [
      "C:\\Users\\arsem\\AppData\\Local\\Temp\\ipykernel_21628\\4227126243.py:19: FutureWarning: DataFrame.applymap has been deprecated. Use DataFrame.map instead.\n",
      "  X = X.applymap(lambda x: x.strip() if isinstance(x, str) else x)\n"
     ]
    },
    {
     "name": "stdout",
     "output_type": "stream",
     "text": [
      "✅ All missing values handled.\n",
      "✅ Model trained successfully.\n",
      "RMSE: 26014.23\n",
      "R²: 0.2949\n"
     ]
    }
   ],
   "source": [
    "import pandas as pd\n",
    "import numpy as np\n",
    "from sklearn.model_selection import train_test_split\n",
    "from sklearn.linear_model import LinearRegression\n",
    "from sklearn.metrics import mean_squared_error, r2_score\n",
    "\n",
    "# Step 1: Subset to positive TotalClaims\n",
    "df_model = data[data['TotalClaims'] > 0].copy()\n",
    "\n",
    "# Step 2: Drop outliers in TotalClaims\n",
    "df_model = df_model[df_model['TotalClaims'] <= df_model['TotalClaims'].quantile(0.99)]\n",
    "\n",
    "# Step 3: Separate target and features\n",
    "y = df_model['TotalClaims']\n",
    "X = df_model.drop(columns=['TotalClaims'])\n",
    "\n",
    "# Step 4: Replace empty strings and strip spaces\n",
    "X = X.replace(r'^\\s*$', np.nan, regex=True)\n",
    "X = X.applymap(lambda x: x.strip() if isinstance(x, str) else x)\n",
    "\n",
    "# Step 5: Encode categoricals\n",
    "X = pd.get_dummies(X, drop_first=True)\n",
    "\n",
    "# Step 6: Drop columns with too many missing values (optional but safe)\n",
    "null_pct = X.isnull().mean()\n",
    "X = X.loc[:, null_pct < 0.5]\n",
    "\n",
    "# Step 7: Fill remaining NaNs with median\n",
    "X = X.fillna(X.median(numeric_only=True))\n",
    "\n",
    "# Final check: are there still NaNs?\n",
    "if X.isna().sum().sum() > 0:\n",
    "    print(\"❌ Still has NaNs:\")\n",
    "    print(X.isna().sum()[X.isna().sum() > 0])\n",
    "    raise ValueError(\"Fix these columns manually.\")\n",
    "else:\n",
    "    print(\"✅ All missing values handled.\")\n",
    "\n",
    "# Step 8: Train/test split\n",
    "X_train, X_test, y_train, y_test = train_test_split(X, y, test_size=0.2, random_state=42)\n",
    "\n",
    "# Step 9: Train model\n",
    "model = LinearRegression()\n",
    "model.fit(X_train, y_train)\n",
    "y_pred = model.predict(X_test)\n",
    "\n",
    "# Step 10: Evaluate\n",
    "rmse = np.sqrt(mean_squared_error(y_test, y_pred))\n",
    "r2 = r2_score(y_test, y_pred)\n",
    "print(f\"✅ Model trained successfully.\\nRMSE: {rmse:.2f}\\nR²: {r2:.4f}\")\n"
   ]
  },
  {
   "cell_type": "markdown",
   "id": "d2f09b9c",
   "metadata": {},
   "source": [
    "✅ Model Summary (Claim Severity Prediction)\n",
    "Target: TotalClaims (for records where claims > 0)\n",
    "\n",
    "Model: Linear Regression\n",
    "\n",
    "Result:\n",
    "\n",
    "RMSE: 26,014.23\n",
    "→ On average, your model’s prediction is off by ~26K ZAR.\n",
    "\n",
    "R²: 0.2949\n",
    "→ ~29.5% of the variation in TotalClaims is explained by your features.\n",
    "\n",
    "📊 Interpretation\n",
    "This R² score is modest — it suggests the model captures some structure, but there's a lot of noise or missing signal.\n",
    "\n",
    "This is common with linear models on complex financial data.\n",
    "\n",
    "The next step will be to compare this with more powerful models like:\n",
    "\n",
    "Random Forest\n",
    "\n",
    "XGBoost"
   ]
  },
  {
   "cell_type": "code",
   "execution_count": 26,
   "id": "7a711121",
   "metadata": {},
   "outputs": [
    {
     "name": "stdout",
     "output_type": "stream",
     "text": [
      "🌲 Random Forest Model Results:\n",
      "✅ RMSE: 26543.08\n",
      "✅ R²: 0.2660\n"
     ]
    }
   ],
   "source": [
    "from sklearn.ensemble import RandomForestRegressor\n",
    "\n",
    "# Step 1: Initialize the model\n",
    "rf_model = RandomForestRegressor(\n",
    "    n_estimators=100, \n",
    "    max_depth=None, \n",
    "    random_state=42,\n",
    "    n_jobs=-1\n",
    ")\n",
    "\n",
    "# Step 2: Train the model\n",
    "rf_model.fit(X_train, y_train)\n",
    "\n",
    "# Step 3: Predict on test set\n",
    "y_pred_rf = rf_model.predict(X_test)\n",
    "\n",
    "# Step 4: Evaluate\n",
    "rmse_rf = np.sqrt(mean_squared_error(y_test, y_pred_rf))\n",
    "r2_rf = r2_score(y_test, y_pred_rf)\n",
    "\n",
    "print(f\"🌲 Random Forest Model Results:\")\n",
    "print(f\"✅ RMSE: {rmse_rf:.2f}\")\n",
    "print(f\"✅ R²: {r2_rf:.4f}\")\n"
   ]
  },
  {
   "cell_type": "code",
   "execution_count": 32,
   "id": "a5bff117",
   "metadata": {},
   "outputs": [
    {
     "name": "stdout",
     "output_type": "stream",
     "text": [
      "Categorical columns: []\n"
     ]
    }
   ],
   "source": [
    "# Step 1: Identify categorical columns\n",
    "categorical_cols = X.select_dtypes(include=['object', 'category']).columns.tolist()\n",
    "print(\"Categorical columns:\", categorical_cols)\n"
   ]
  },
  {
   "cell_type": "code",
   "execution_count": 33,
   "id": "c0fe0776",
   "metadata": {},
   "outputs": [
    {
     "name": "stdout",
     "output_type": "stream",
     "text": [
      "Random Forest RMSE: 26543.08\n",
      "Random Forest R²: 0.2660\n"
     ]
    }
   ],
   "source": [
    "from sklearn.ensemble import RandomForestRegressor\n",
    "from sklearn.metrics import mean_squared_error, r2_score\n",
    "import numpy as np\n",
    "\n",
    "rf_model = RandomForestRegressor(n_estimators=100, random_state=42)\n",
    "rf_model.fit(X_train, y_train)\n",
    "rf_preds = rf_model.predict(X_test)\n",
    "\n",
    "rf_rmse = np.sqrt(mean_squared_error(y_test, rf_preds))\n",
    "rf_r2 = r2_score(y_test, rf_preds)\n",
    "\n",
    "print(f\"Random Forest RMSE: {rf_rmse:.2f}\")\n",
    "print(f\"Random Forest R²: {rf_r2:.4f}\")\n"
   ]
  }
 ],
 "metadata": {
  "kernelspec": {
   "display_name": "Python 3",
   "language": "python",
   "name": "python3"
  },
  "language_info": {
   "codemirror_mode": {
    "name": "ipython",
    "version": 3
   },
   "file_extension": ".py",
   "mimetype": "text/x-python",
   "name": "python",
   "nbconvert_exporter": "python",
   "pygments_lexer": "ipython3",
   "version": "3.12.4"
  }
 },
 "nbformat": 4,
 "nbformat_minor": 5
}
