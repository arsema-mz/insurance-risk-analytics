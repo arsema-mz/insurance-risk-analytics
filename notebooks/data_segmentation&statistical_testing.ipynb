{
 "cells": [
  {
   "cell_type": "markdown",
   "id": "b1c9d37d",
   "metadata": {},
   "source": [
    "# Data Segmentation and Statistical Testing"
   ]
  },
  {
   "cell_type": "markdown",
   "id": "29e53f89",
   "metadata": {},
   "source": [
    "## Data Segmentation"
   ]
  },
  {
   "cell_type": "code",
   "execution_count": 2,
   "id": "2759510b",
   "metadata": {},
   "outputs": [
    {
     "name": "stderr",
     "output_type": "stream",
     "text": [
      "C:\\Users\\arsem\\AppData\\Local\\Temp\\ipykernel_34564\\3744290036.py:5: DtypeWarning: Columns (32,37) have mixed types. Specify dtype option on import or set low_memory=False.\n",
      "  data = pd.read_csv(file_path, delimiter='|')\n"
     ]
    },
    {
     "name": "stdout",
     "output_type": "stream",
     "text": [
      "   UnderwrittenCoverID  PolicyID     TransactionMonth  IsVATRegistered  \\\n",
      "0               145249     12827  2015-03-01 00:00:00             True   \n",
      "1               145249     12827  2015-05-01 00:00:00             True   \n",
      "2               145249     12827  2015-07-01 00:00:00             True   \n",
      "3               145255     12827  2015-05-01 00:00:00             True   \n",
      "4               145255     12827  2015-07-01 00:00:00             True   \n",
      "\n",
      "  Citizenship          LegalType Title Language                 Bank  \\\n",
      "0              Close Corporation    Mr  English  First National Bank   \n",
      "1              Close Corporation    Mr  English  First National Bank   \n",
      "2              Close Corporation    Mr  English  First National Bank   \n",
      "3              Close Corporation    Mr  English  First National Bank   \n",
      "4              Close Corporation    Mr  English  First National Bank   \n",
      "\n",
      "       AccountType  ...                    ExcessSelected CoverCategory  \\\n",
      "0  Current account  ...             Mobility - Windscreen    Windscreen   \n",
      "1  Current account  ...             Mobility - Windscreen    Windscreen   \n",
      "2  Current account  ...             Mobility - Windscreen    Windscreen   \n",
      "3  Current account  ...  Mobility - Metered Taxis - R2000    Own damage   \n",
      "4  Current account  ...  Mobility - Metered Taxis - R2000    Own damage   \n",
      "\n",
      "    CoverType            CoverGroup              Section  \\\n",
      "0  Windscreen  Comprehensive - Taxi  Motor Comprehensive   \n",
      "1  Windscreen  Comprehensive - Taxi  Motor Comprehensive   \n",
      "2  Windscreen  Comprehensive - Taxi  Motor Comprehensive   \n",
      "3  Own Damage  Comprehensive - Taxi  Motor Comprehensive   \n",
      "4  Own Damage  Comprehensive - Taxi  Motor Comprehensive   \n",
      "\n",
      "                           Product StatutoryClass StatutoryRiskType  \\\n",
      "0  Mobility Metered Taxis: Monthly     Commercial     IFRS Constant   \n",
      "1  Mobility Metered Taxis: Monthly     Commercial     IFRS Constant   \n",
      "2  Mobility Metered Taxis: Monthly     Commercial     IFRS Constant   \n",
      "3  Mobility Metered Taxis: Monthly     Commercial     IFRS Constant   \n",
      "4  Mobility Metered Taxis: Monthly     Commercial     IFRS Constant   \n",
      "\n",
      "   TotalPremium TotalClaims  \n",
      "0     21.929825         0.0  \n",
      "1     21.929825         0.0  \n",
      "2      0.000000         0.0  \n",
      "3    512.848070         0.0  \n",
      "4      0.000000         0.0  \n",
      "\n",
      "[5 rows x 52 columns]\n"
     ]
    }
   ],
   "source": [
    "import pandas as pd\n",
    "\n",
    "# Load the data\n",
    "file_path = '../data/MachineLearningRating_v3.txt'  \n",
    "data = pd.read_csv(file_path, delimiter='|')  \n",
    "\n",
    "print(data.head())"
   ]
  },
  {
   "cell_type": "code",
   "execution_count": 3,
   "id": "a10ba86a",
   "metadata": {},
   "outputs": [
    {
     "name": "stdout",
     "output_type": "stream",
     "text": [
      "['UnderwrittenCoverID', 'PolicyID', 'TransactionMonth', 'IsVATRegistered', 'Citizenship', 'LegalType', 'Title', 'Language', 'Bank', 'AccountType', 'MaritalStatus', 'Gender', 'Country', 'Province', 'PostalCode', 'MainCrestaZone', 'SubCrestaZone', 'ItemType', 'mmcode', 'VehicleType', 'RegistrationYear', 'make', 'Model', 'Cylinders', 'cubiccapacity', 'kilowatts', 'bodytype', 'NumberOfDoors', 'VehicleIntroDate', 'CustomValueEstimate', 'AlarmImmobiliser', 'TrackingDevice', 'CapitalOutstanding', 'NewVehicle', 'WrittenOff', 'Rebuilt', 'Converted', 'CrossBorder', 'NumberOfVehiclesInFleet', 'SumInsured', 'TermFrequency', 'CalculatedPremiumPerTerm', 'ExcessSelected', 'CoverCategory', 'CoverType', 'CoverGroup', 'Section', 'Product', 'StatutoryClass', 'StatutoryRiskType', 'TotalPremium', 'TotalClaims']\n"
     ]
    }
   ],
   "source": [
    "print(data.columns.tolist())\n"
   ]
  },
  {
   "cell_type": "code",
   "execution_count": 4,
   "id": "91c6a5b7",
   "metadata": {},
   "outputs": [],
   "source": [
    "# Get the two most common provinces\n",
    "top_provinces = data['Province'].value_counts().index[:2]\n",
    "\n",
    "group_prov_1 = data[data['Province'] == top_provinces[0]]\n",
    "group_prov_2 = data[data['Province'] == top_provinces[1]]\n"
   ]
  },
  {
   "cell_type": "code",
   "execution_count": 5,
   "id": "e2390559",
   "metadata": {},
   "outputs": [],
   "source": [
    "# Get top 2 zip codes with the most records\n",
    "top_postal_codes = data['PostalCode'].value_counts().index[:2]\n",
    "\n",
    "group_zip_1 = data[data['PostalCode'] == top_postal_codes[0]]\n",
    "group_zip_2 = data[data['PostalCode'] == top_postal_codes[1]]\n"
   ]
  },
  {
   "cell_type": "code",
   "execution_count": 6,
   "id": "6c971783",
   "metadata": {},
   "outputs": [],
   "source": [
    "group_female = data[data['Gender'].str.lower() == 'female']\n",
    "group_male = data[data['Gender'].str.lower() == 'male']\n"
   ]
  },
  {
   "cell_type": "markdown",
   "id": "6cdb2f1d",
   "metadata": {},
   "source": [
    "## Statistical Testing"
   ]
  },
  {
   "cell_type": "markdown",
   "id": "f0142e28",
   "metadata": {},
   "source": [
    "🎯 Hypothesis 1 (H₀-1):\n",
    "\"There are no risk differences across provinces.\"\n",
    "\n",
    "We'll test this using two metrics:\n",
    "\n",
    "Claim Frequency → Chi-squared test\n",
    "\n",
    "Claim Severity → T-test\n",
    "\n",
    "✅ Chi-Squared Test for Claim Frequency across Provinces\n",
    "💡 Goal:\n",
    "See if there's a statistically significant difference in the proportion of policies with at least one claim between the top two provinces.\n",
    "\n",
    "📊 What we’re testing:\n",
    "Group 1: Province A (e.g., Gauteng)\n",
    "\n",
    "Group 2: Province B (e.g., Western Cape)\n",
    "\n",
    "Metric: Proportion of rows where ClaimAmount > 0\n",
    "\n",
    "🧪 Test: Chi-Squared Test for Independence\n",
    "📌 Why?\n",
    "Because we’re comparing frequencies of a binary outcome (HasClaim: Yes/No) across two groups (Province A vs. Province B)."
   ]
  },
  {
   "cell_type": "code",
   "execution_count": 7,
   "id": "522c8498",
   "metadata": {},
   "outputs": [
    {
     "name": "stdout",
     "output_type": "stream",
     "text": [
      "Chi-squared: 56.09\n",
      "p-value: 0.0000\n"
     ]
    }
   ],
   "source": [
    "from scipy.stats import chi2_contingency\n",
    "\n",
    "# Step 1: Create the binary HasClaim column\n",
    "data['HasClaim'] = data['TotalClaims'] > 0\n",
    "\n",
    "# Step 2: Get the top 2 provinces\n",
    "top_provinces = data['Province'].value_counts().index[:2]\n",
    "prov1 = top_provinces[0]\n",
    "prov2 = top_provinces[1]\n",
    "\n",
    "# Step 3: Subset data\n",
    "group_prov1 = data[data['Province'] == prov1]\n",
    "group_prov2 = data[data['Province'] == prov2]\n",
    "\n",
    "# Step 4: Build a contingency table\n",
    "contingency = [\n",
    "    [\n",
    "        group_prov1['HasClaim'].sum(),                      # number of claims in prov1\n",
    "        len(group_prov1) - group_prov1['HasClaim'].sum()    # no-claims in prov1\n",
    "    ],\n",
    "    [\n",
    "        group_prov2['HasClaim'].sum(),                      \n",
    "        len(group_prov2) - group_prov2['HasClaim'].sum()\n",
    "    ]\n",
    "]\n",
    "\n",
    "# Step 5: Perform chi-squared test\n",
    "chi2, p, dof, expected = chi2_contingency(contingency)\n",
    "\n",
    "print(f\"Chi-squared: {chi2:.2f}\")\n",
    "print(f\"p-value: {p:.4f}\")\n"
   ]
  },
  {
   "cell_type": "markdown",
   "id": "765c2bf2",
   "metadata": {},
   "source": [
    "📣 Conclusion (Business Interpretation):\n",
    "We reject the null hypothesis that there are no risk differences across provinces (p < 0.0001).\n",
    "Specifically, the claim frequency differs significantly between the top two provinces.\n",
    "This suggests geographical risk segmentation is warranted — provincial location should be considered in pricing or underwriting strategies."
   ]
  },
  {
   "cell_type": "markdown",
   "id": "15a8961c",
   "metadata": {},
   "source": [
    "✅ T-Test for Claim Severity Across Provinces\n",
    "💡 Goal:\n",
    "We want to see whether the average claim amount, given that a claim occurred, is significantly different between the top two provinces.\n",
    "\n",
    "📊 What we’re testing:\n",
    "Claim Severity = TotalClaims per policy (but only where TotalClaims > 0)\n",
    "\n",
    "Group A: Province 1 (e.g., Gauteng)\n",
    "\n",
    "Group B: Province 2 (e.g., Western Cape)\n",
    "\n",
    "🧪 Test: Independent Two-Sample T-Test\n",
    "📌 Why?\n",
    "We’re comparing the means of a continuous variable (TotalClaims) between two independent groups, only for records where a claim occurred."
   ]
  },
  {
   "cell_type": "code",
   "execution_count": 8,
   "id": "055e7aad",
   "metadata": {},
   "outputs": [
    {
     "name": "stdout",
     "output_type": "stream",
     "text": [
      "T-statistic: -2.17\n",
      "p-value: 0.0306\n"
     ]
    }
   ],
   "source": [
    "from scipy.stats import ttest_ind\n",
    "\n",
    "# Step 1: Filter for policies that had claims\n",
    "claims_data = data[data['TotalClaims'] > 0]\n",
    "\n",
    "# Step 2: Get claim values by province\n",
    "claims_prov1 = claims_data[claims_data['Province'] == prov1]['TotalClaims']\n",
    "claims_prov2 = claims_data[claims_data['Province'] == prov2]['TotalClaims']\n",
    "\n",
    "# Step 3: Perform independent t-test\n",
    "t_stat, p_value = ttest_ind(claims_prov1, claims_prov2, equal_var=False)  # Welch's t-test\n",
    "\n",
    "print(f\"T-statistic: {t_stat:.2f}\")\n",
    "print(f\"p-value: {p_value:.4f}\")\n"
   ]
  },
  {
   "cell_type": "markdown",
   "id": "89f9ae5c",
   "metadata": {},
   "source": [
    "🎯 Decision:\n",
    "Since p < 0.05, we reject the null hypothesis.\n",
    "\n",
    "📣 Business Interpretation:\n",
    "We reject the null hypothesis that claim severity is the same across provinces (p = 0.0306).\n",
    "This suggests that, among those who make a claim, the average claim amount differs significantly between the top two provinces.\n",
    "In other words, not only do people in different provinces claim at different rates, but they also claim different amounts."
   ]
  },
  {
   "cell_type": "markdown",
   "id": "15919720",
   "metadata": {},
   "source": [
    "🎯 Hypothesis 2 (H₀-2):\n",
    "\"There are no risk differences between zip codes.\"\n",
    "\n",
    "We'll use the same two metrics:\n",
    "\n",
    "Claim Frequency → Chi-squared test\n",
    "\n",
    "Claim Severity → T-test\n",
    "\n",
    "✅ Chi-Squared Test for Claim Frequency Across Zip Codes\n",
    "💡 Goal:\n",
    "Determine if the proportion of policies with at least one claim differs significantly between the two most common postal codes."
   ]
  },
  {
   "cell_type": "code",
   "execution_count": 9,
   "id": "7bed91fc",
   "metadata": {},
   "outputs": [
    {
     "name": "stdout",
     "output_type": "stream",
     "text": [
      "Chi-squared: 3.60\n",
      "p-value: 0.0579\n"
     ]
    }
   ],
   "source": [
    "# Step 1: Get top 2 postal codes\n",
    "top_postal_codes = data['PostalCode'].value_counts().index[:2]\n",
    "zip1 = top_postal_codes[0]\n",
    "zip2 = top_postal_codes[1]\n",
    "\n",
    "# Step 2: Subset data\n",
    "group_zip1 = data[data['PostalCode'] == zip1]\n",
    "group_zip2 = data[data['PostalCode'] == zip2]\n",
    "\n",
    "# Step 3: Build contingency table for claim frequency\n",
    "contingency_zip = [\n",
    "    [\n",
    "        group_zip1['HasClaim'].sum(),\n",
    "        len(group_zip1) - group_zip1['HasClaim'].sum()\n",
    "    ],\n",
    "    [\n",
    "        group_zip2['HasClaim'].sum(),\n",
    "        len(group_zip2) - group_zip2['HasClaim'].sum()\n",
    "    ]\n",
    "]\n",
    "\n",
    "# Step 4: Perform chi-squared test\n",
    "chi2_zip, p_zip, dof_zip, expected_zip = chi2_contingency(contingency_zip)\n",
    "\n",
    "print(f\"Chi-squared: {chi2_zip:.2f}\")\n",
    "print(f\"p-value: {p_zip:.4f}\")\n"
   ]
  },
  {
   "cell_type": "markdown",
   "id": "6c3093b1",
   "metadata": {},
   "source": [
    "🎯 Decision:\n",
    "Since p-value ≥ 0.05, we fail to reject the null hypothesis.\n",
    "\n",
    "📣 Business Interpretation:\n",
    "We do not have sufficient evidence to say that claim frequency differs between the top two zip codes (p = 0.0579).\n",
    "This means the rate at which customers file claims appears similar between those zip codes, based on the current data.\n",
    "\n"
   ]
  },
  {
   "cell_type": "markdown",
   "id": "97fa0c9b",
   "metadata": {},
   "source": [
    "✅ T-Test for Claim Severity Across Zip Codes\n",
    "💡 Goal:\n",
    "Check whether the average claim amount differs significantly between the top two zip codes (only among those who actually filed a claim).\n",
    "\n"
   ]
  },
  {
   "cell_type": "code",
   "execution_count": 10,
   "id": "68db8938",
   "metadata": {},
   "outputs": [
    {
     "name": "stdout",
     "output_type": "stream",
     "text": [
      "T-statistic: 0.39\n",
      "p-value: 0.7002\n"
     ]
    }
   ],
   "source": [
    "# Step 1: Filter to policies with claims\n",
    "claims_data_zip = data[data['TotalClaims'] > 0]\n",
    "\n",
    "# Step 2: Subset data by top 2 postal codes\n",
    "claims_zip1 = claims_data_zip[claims_data_zip['PostalCode'] == zip1]['TotalClaims']\n",
    "claims_zip2 = claims_data_zip[claims_data_zip['PostalCode'] == zip2]['TotalClaims']\n",
    "\n",
    "# Step 3: Perform Welch's t-test (assumes unequal variance)\n",
    "t_stat_zip, p_val_zip = ttest_ind(claims_zip1, claims_zip2, equal_var=False)\n",
    "\n",
    "print(f\"T-statistic: {t_stat_zip:.2f}\")\n",
    "print(f\"p-value: {p_val_zip:.4f}\")\n"
   ]
  },
  {
   "cell_type": "markdown",
   "id": "a25c5feb",
   "metadata": {},
   "source": [
    "🎯 Decision:\n",
    "Since p-value ≥ 0.05, we fail to reject the null hypothesis.\n",
    "\n",
    "📣 Business Interpretation:\n",
    "There is no significant difference in the average claim amount between the top two zip codes (p = 0.7002).\n",
    "This suggests that, among customers who file claims, those in these zip codes incur similar claim costs."
   ]
  },
  {
   "cell_type": "markdown",
   "id": "98eee900",
   "metadata": {},
   "source": [
    "💼 Strategic Insight:\n",
    "Zip code alone does not appear to be a strong differentiator for either claim frequency or severity (at least between the top two zip codes).\n",
    "Therefore, zip code segmentation may have limited impact on risk-adjusted pricing — unless further grouped by other factors."
   ]
  },
  {
   "cell_type": "markdown",
   "id": "13b8a04a",
   "metadata": {},
   "source": [
    "✅ Test for Margin Differences Between Zip Codes\n",
    "🧮 Metric:\n",
    "Margin = TotalPremium - TotalClaims\n",
    "\n",
    "This tells us how profitable or unprofitable a customer or group is.\n",
    "\n",
    "🎯 Hypothesis 3 (H₀-3):\n",
    "\"There are no significant margin (profit) differences between zip codes.\"\n",
    "\n",
    "🧪 Test: Independent T-Test\n",
    "We'll test if average margin differs significantly between the top 2 zip codes (same ones as before)."
   ]
  },
  {
   "cell_type": "code",
   "execution_count": 11,
   "id": "b75cd9d0",
   "metadata": {},
   "outputs": [
    {
     "name": "stdout",
     "output_type": "stream",
     "text": [
      "T-statistic: 1.16\n",
      "p-value: 0.2445\n"
     ]
    }
   ],
   "source": [
    "# Step 1: Create margin column\n",
    "data['Margin'] = data['TotalPremium'] - data['TotalClaims']\n",
    "\n",
    "# Step 2: Subset margin by top 2 zip codes\n",
    "margin_zip1 = data[data['PostalCode'] == zip1]['Margin']\n",
    "margin_zip2 = data[data['PostalCode'] == zip2]['Margin']\n",
    "\n",
    "# Step 3: Perform Welch's t-test\n",
    "t_stat_margin, p_val_margin = ttest_ind(margin_zip1, margin_zip2, equal_var=False)\n",
    "\n",
    "print(f\"T-statistic: {t_stat_margin:.2f}\")\n",
    "print(f\"p-value: {p_val_margin:.4f}\")\n"
   ]
  },
  {
   "cell_type": "markdown",
   "id": "11c61cb2",
   "metadata": {},
   "source": [
    "🎯 Decision:\n",
    "Since p-value ≥ 0.05, we fail to reject the null hypothesis.\n",
    "\n",
    "📣 Business Interpretation:\n",
    "There is no significant difference in average profit margin between the top two zip codes (p = 0.2445).\n",
    "This suggests that from a financial performance perspective, these zip codes are equally profitable."
   ]
  },
  {
   "cell_type": "markdown",
   "id": "435aa410",
   "metadata": {},
   "source": [
    "✅ Risk Differences Between Women and Men\n",
    "🎯 Hypothesis 4 (H₀-4):\n",
    "\"There are no significant risk differences between Women and Men.\"\n",
    "\n",
    "We’ll evaluate this using two metrics again:\n",
    "\n",
    "Claim Frequency (Chi-squared test)\n",
    "\n",
    "Claim Severity (T-test, among claimants only)\n",
    "\n",
    "✅ Chi-Squared Test for Claim Frequency by Gender\n",
    "💡 Goal:\n",
    "See if proportion of claimants differs significantly between male and female customers."
   ]
  },
  {
   "cell_type": "code",
   "execution_count": 12,
   "id": "0b3aaebd",
   "metadata": {},
   "outputs": [
    {
     "name": "stdout",
     "output_type": "stream",
     "text": [
      "Chi-squared: 0.00\n",
      "p-value: 0.9515\n"
     ]
    }
   ],
   "source": [
    "# Step 1: Filter out rows with missing gender\n",
    "gender_data = data[data['Gender'].isin(['Male', 'Female'])]\n",
    "\n",
    "# Step 2: Build contingency table\n",
    "contingency_gender = pd.crosstab(gender_data['Gender'], gender_data['HasClaim'])\n",
    "\n",
    "# Step 3: Perform chi-squared test\n",
    "chi2_gender, p_gender, _, _ = chi2_contingency(contingency_gender)\n",
    "\n",
    "print(f\"Chi-squared: {chi2_gender:.2f}\")\n",
    "print(f\"p-value: {p_gender:.4f}\")\n"
   ]
  },
  {
   "cell_type": "markdown",
   "id": "e0ce419c",
   "metadata": {},
   "source": [
    "🎯 Decision:\n",
    "Since p-value = 0.9515 ≥ 0.05, we fail to reject the null hypothesis.\n",
    "\n",
    "📣 Business Interpretation:\n",
    "There is no significant difference in the proportion of claimants between women and men.\n",
    "This means men and women file claims at roughly the same rate in this dataset.\n",
    "\n"
   ]
  },
  {
   "cell_type": "markdown",
   "id": "5f50a1d3",
   "metadata": {},
   "source": [
    "✅ T-Test for Claim Severity Between Women and Men\n",
    "💡 Goal:\n",
    "Check if the average claim amount differs significantly between men and women (only among those who filed claims)."
   ]
  },
  {
   "cell_type": "code",
   "execution_count": 13,
   "id": "a94c4a4b",
   "metadata": {},
   "outputs": [
    {
     "name": "stdout",
     "output_type": "stream",
     "text": [
      "T-statistic: -0.58\n",
      "p-value: 0.5680\n"
     ]
    }
   ],
   "source": [
    "# Step 1: Filter policies with claims and valid gender\n",
    "claims_gender = data[(data['TotalClaims'] > 0) & (data['Gender'].isin(['Male', 'Female']))]\n",
    "\n",
    "# Step 2: Separate claim amounts by gender\n",
    "claims_male = claims_gender[claims_gender['Gender'] == 'Male']['TotalClaims']\n",
    "claims_female = claims_gender[claims_gender['Gender'] == 'Female']['TotalClaims']\n",
    "\n",
    "# Step 3: Perform Welch's t-test (unequal variance)\n",
    "t_stat_gender, p_val_gender = ttest_ind(claims_male, claims_female, equal_var=False)\n",
    "\n",
    "print(f\"T-statistic: {t_stat_gender:.2f}\")\n",
    "print(f\"p-value: {p_val_gender:.4f}\")\n"
   ]
  },
  {
   "cell_type": "markdown",
   "id": "46abbea2",
   "metadata": {},
   "source": [
    "🎯 Decision:\n",
    "Since p-value ≥ 0.05, we fail to reject the null hypothesis.\n",
    "\n",
    "📣 Business Interpretation:\n",
    "There is no significant difference in average claim amount between men and women who file claims.\n",
    "This suggests claim severity is similar across genders in this dataset."
   ]
  }
 ],
 "metadata": {
  "kernelspec": {
   "display_name": "Python 3",
   "language": "python",
   "name": "python3"
  },
  "language_info": {
   "codemirror_mode": {
    "name": "ipython",
    "version": 3
   },
   "file_extension": ".py",
   "mimetype": "text/x-python",
   "name": "python",
   "nbconvert_exporter": "python",
   "pygments_lexer": "ipython3",
   "version": "3.12.4"
  }
 },
 "nbformat": 4,
 "nbformat_minor": 5
}
