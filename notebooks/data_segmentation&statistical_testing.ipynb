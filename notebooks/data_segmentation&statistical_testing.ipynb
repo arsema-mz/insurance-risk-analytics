{
 "cells": [
  {
   "cell_type": "markdown",
   "id": "b1c9d37d",
   "metadata": {},
   "source": [
    "# Data Segmentation and Statistical Testing"
   ]
  },
  {
   "cell_type": "markdown",
   "id": "29e53f89",
   "metadata": {},
   "source": [
    "## Data Segmentation"
   ]
  },
  {
   "cell_type": "code",
   "execution_count": null,
   "id": "2759510b",
   "metadata": {},
   "outputs": [],
   "source": []
  }
 ],
 "metadata": {
  "language_info": {
   "name": "python"
  }
 },
 "nbformat": 4,
 "nbformat_minor": 5
}
